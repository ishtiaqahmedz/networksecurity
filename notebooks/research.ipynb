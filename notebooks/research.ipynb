{
 "cells": [
  {
   "cell_type": "code",
   "execution_count": 9,
   "id": "bfe8d531",
   "metadata": {},
   "outputs": [],
   "source": [
    "import logging\n",
    "import os\n",
    "from datetime import datetime\n",
    "\n",
    "LOG_FILE=f\"{datetime.now().strftime('%y%m%d-%H%M%S')}.log\"\n",
    "\n",
    "logs_path=os.path.join(os.getcwd(),\"logs\",LOG_FILE) #\"logs\" will create folder called log\n",
    "\n",
    "logs_path=os.path.join(os.getcwd(),\"logs\") #\"logs\" will create folder called log\n",
    "\n",
    "LOG_FILE_PATH=os.path.join(logs_path,LOG_FILE)\n",
    "\n",
    "\n",
    "LOG_FOLDER= os.path.join(os.getcwd(),\"logs\")"
   ]
  },
  {
   "cell_type": "code",
   "execution_count": 10,
   "id": "6bba350a",
   "metadata": {},
   "outputs": [
    {
     "data": {
      "text/plain": [
       "('d:\\\\AI Local\\\\practice_projects\\\\NetworkSecurity\\\\notebooks\\\\logs',\n",
       " 'd:\\\\AI Local\\\\practice_projects\\\\NetworkSecurity\\\\notebooks\\\\logs',\n",
       " '250824-202741.log',\n",
       " 'd:\\\\AI Local\\\\practice_projects\\\\NetworkSecurity\\\\notebooks\\\\logs\\\\250824-202741.log')"
      ]
     },
     "execution_count": 10,
     "metadata": {},
     "output_type": "execute_result"
    }
   ],
   "source": [
    "LOG_FOLDER,logs_path,LOG_FILE, LOG_FILE_PATH,\n"
   ]
  },
  {
   "cell_type": "code",
   "execution_count": null,
   "id": "079190b6",
   "metadata": {},
   "outputs": [],
   "source": []
  }
 ],
 "metadata": {
  "kernelspec": {
   "display_name": "Python 3",
   "language": "python",
   "name": "python3"
  },
  "language_info": {
   "codemirror_mode": {
    "name": "ipython",
    "version": 3
   },
   "file_extension": ".py",
   "mimetype": "text/x-python",
   "name": "python",
   "nbconvert_exporter": "python",
   "pygments_lexer": "ipython3",
   "version": "3.10.0"
  }
 },
 "nbformat": 4,
 "nbformat_minor": 5
}
